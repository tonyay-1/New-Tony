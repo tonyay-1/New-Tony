{
 "cells": [
  {
   "cell_type": "code",
   "execution_count": 1,
   "id": "dd72b410",
   "metadata": {},
   "outputs": [
    {
     "data": {
      "text/plain": [
       "(0.4242640687119287, -0.2, 0.19807204697312206, -0.09337205838546296)"
      ]
     },
     "execution_count": 1,
     "metadata": {},
     "output_type": "execute_result"
    }
   ],
   "source": [
    "### Name- AMANKWAH TONY YAW\n",
    "# Index- 4290220\n",
    "import numpy as np\n",
    "\n",
    "# Sample observational data (in degrees Celsius)\n",
    "observations = np.array([15.2, 16.1, 14.5, 15.8, 25.0])\n",
    "\n",
    "# Sample model predictions (in degrees Celsius)\n",
    "model_output = np.array([14.8, 15.5, 14.0, 16.0, 25.3])\n",
    "\n",
    "# Compute variances (as a proxy for error covariances)\n",
    "obs_variance = np.var(observations)\n",
    "model_variance = np.var(model_output)\n",
    "\n",
    "# Calculate the Kalman gain\n",
    "K = model_variance / (model_variance + obs_variance)\n",
    "\n",
    "# Calculate the analysis field\n",
    "analysis = model_output + K * (observations - model_output)\n",
    "\n",
    "# Function to calculate RMSE and bias\n",
    "def evaluate_performance(true_values, estimated_values):\n",
    "    rmse = np.sqrt(np.mean((true_values - estimated_values) ** 2))\n",
    "    bias = np.mean(estimated_values - true_values)\n",
    "    return rmse, bias\n",
    "\n",
    "# Evaluate the performance\n",
    "rmse_model, bias_model = evaluate_performance(observations, model_output)\n",
    "rmse_analysis, bias_analysis = evaluate_performance(observations, analysis)\n",
    "\n",
    "rmse_model, bias_model, rmse_analysis, bias_analysis\n"
   ]
  }
 ],
 "metadata": {
  "kernelspec": {
   "display_name": "Python 3 (ipykernel)",
   "language": "python",
   "name": "python3"
  },
  "language_info": {
   "codemirror_mode": {
    "name": "ipython",
    "version": 3
   },
   "file_extension": ".py",
   "mimetype": "text/x-python",
   "name": "python",
   "nbconvert_exporter": "python",
   "pygments_lexer": "ipython3",
   "version": "3.11.2"
  }
 },
 "nbformat": 4,
 "nbformat_minor": 5
}
